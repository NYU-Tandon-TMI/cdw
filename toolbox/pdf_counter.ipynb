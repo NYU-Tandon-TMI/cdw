{
 "cells": [
  {
   "cell_type": "code",
   "execution_count": null,
   "id": "3aabaf62",
   "metadata": {},
   "outputs": [],
   "source": [
    "import os\n",
    "import pandas as pd\n",
    "import fitz  # PyMuPDF\n",
    "\n",
    "def count_pdf_pages(directory):\n",
    "    data = []\n",
    "    for root, dirs, files in os.walk(directory):\n",
    "        for file in files:\n",
    "            if file.endswith(\".pdf\"):\n",
    "                path = os.path.join(root, file)\n",
    "                try:\n",
    "                    document = fitz.open(path)\n",
    "                    num_pages = document.page_count\n",
    "                    data.append({\"Path\": root, \"File\": file, \"Pages\": num_pages})\n",
    "                except Exception as e:\n",
    "                    print(f\"Could not read {file}: {e}\")\n",
    "                    data.append({\"Path\": root, \"File\": file, \"Pages\": \"Error\"})\n",
    "\n",
    "    df = pd.DataFrame(data)\n",
    "    return df\n",
    "\n",
    "# Replace 'your_directory_path' with the path to your directory containing PDFs\n",
    "df_pdf = count_pdf_pages('Out of State Tracking Documents')\n",
    "print(df_pdf)"
   ]
  },
  {
   "cell_type": "code",
   "execution_count": null,
   "id": "e4ba8dd0",
   "metadata": {},
   "outputs": [],
   "source": [
    "output_path = 'document_statistics.csv'\n",
    "df_pdf.to_csv(output_path, index=False)"
   ]
  }
 ],
 "metadata": {
  "kernelspec": {
   "display_name": "Python 3 (ipykernel)",
   "language": "python",
   "name": "python3"
  },
  "language_info": {
   "codemirror_mode": {
    "name": "ipython",
    "version": 3
   },
   "file_extension": ".py",
   "mimetype": "text/x-python",
   "name": "python",
   "nbconvert_exporter": "python",
   "pygments_lexer": "ipython3",
   "version": "3.11.4"
  }
 },
 "nbformat": 4,
 "nbformat_minor": 5
}
