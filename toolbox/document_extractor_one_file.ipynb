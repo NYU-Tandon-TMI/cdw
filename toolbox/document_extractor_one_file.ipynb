{
 "cells": [
  {
   "cell_type": "code",
   "execution_count": 1,
   "id": "c642814b",
   "metadata": {},
   "outputs": [],
   "source": [
    "import os\n",
    "import fitz  # PyMuPDF is for splitting pdf docs\n",
    "import difflib\n",
    "import pandas as pd\n",
    "from google.api_core.client_options import ClientOptions\n",
    "from google.cloud import documentai\n",
    "\n",
    "project_id = \"nyc-ddc-cdc4\"\n",
    "location = \"us\"\n",
    "processor_id = \"12fdd9cc0a336340\" # Create processor before running sample\n",
    "file_path = \"2A-033_ConEd_cdd.2019-02G.wtd.pdf\"\n",
    "mime_type = \"application/pdf\" # Refer to https://cloud.google.com/document-ai/docs/file-types for supported file types\n",
    "field_mask = \"entities\" #Optional. The fields to return in the Document object.\n",
    "processor_version_id = \"pretrained-foundation-model-v1.0-2023-08-22\" # Optional. Processor version to use\n",
    "\n",
    "opts = ClientOptions(api_endpoint=f\"{location}-documentai.googleapis.com\")\n",
    "client = documentai.DocumentProcessorServiceClient(client_options=opts)\n",
    "processor_name = client.processor_path(project_id, location, processor_id)\n",
    "\n",
    "columns = ['type_debris',\n",
    "           'waste_quantity',\n",
    "           'pickup_name',\n",
    "           'pickup_address',\n",
    "           'pickup_city',\n",
    "           'pickup_state',\n",
    "           'pickup_zip',\n",
    "           'pickup_lat',\n",
    "           'pickup_lng',\n",
    "           'generator_name',\n",
    "           'generator_address',\n",
    "           'generator_city',\n",
    "           'generator_state',\n",
    "           'generator_zip',\n",
    "           'transporter_name',\n",
    "           'receiving_name',\n",
    "           'receiving_address',\n",
    "           'receiving_city',\n",
    "           'receiving_state',\n",
    "           'receiving_zip',\n",
    "           'receiving_lat',\n",
    "           'receiving_lng',\n",
    "          ]"
   ]
  },
  {
   "cell_type": "code",
   "execution_count": 2,
   "id": "2dece3ea",
   "metadata": {},
   "outputs": [],
   "source": [
    "def process_type(text, cutoff=0.6):\n",
    "    candidates = ['Limited-Use Fill',\n",
    "                  'Restricted-Use Fill',\n",
    "                  'Contaminated Fill',\n",
    "                  'Fill Material - Unknown',\n",
    "                  'General Fill',\n",
    "                  'Residue',\n",
    "                  'Construction Waste',\n",
    "                  'Demolition Waste'\n",
    "                 ]\n",
    "    matches = difflib.get_close_matches(text, candidates, n=1, cutoff=cutoff)\n",
    "    if matches:\n",
    "        return matches[0]  # Return the closest match found\n",
    "    return 'Mix'  # Return 'Mix' if no close match is found\n",
    "    \n",
    "\n",
    "def process_data(text: str) -> str:\n",
    "    return text.replace(\"\\n\", \" \")\n",
    "\n",
    "def process_page(page):\n",
    "    image = page.get_pixmap()\n",
    "    image_bytes = image.tobytes(\"png\")  # Convert the page to PNG bytes\n",
    "\n",
    "    # Create a document\n",
    "    raw_document = documentai.RawDocument(content=image_bytes, mime_type='image/png')\n",
    "\n",
    "    # Create a request\n",
    "    request = documentai.ProcessRequest(name=processor_name, raw_document=raw_document)\n",
    "\n",
    "    # Process the document\n",
    "    result = client.process_document(request=request)\n",
    "    page_data = {col: '' for col in columns} # Initial a blank row\n",
    "    for entity in result.document.entities:\n",
    "        if entity.type_ in page_data: # Check if it is required\n",
    "            if entity.type_ == 'type_debris':\n",
    "                page_data[entity.type_] = process_type(entity.mention_text)\n",
    "            else:\n",
    "                page_data[entity.type_] = process_data(entity.mention_text)\n",
    "    return page_data\n",
    "\n",
    "def process_pdf(file_path, csv_file_path):\n",
    "    doc = fitz.open(file_path)  # Open the PDF file\n",
    "    data = []\n",
    "    for page_num, page in enumerate(doc, start=1):\n",
    "        print(f\"Processing page {page_num}\")\n",
    "        page_data = process_page(page)\n",
    "        data.append(page_data)\n",
    "    \n",
    "    # Create DataFrame and save it to CSV\n",
    "    df = pd.DataFrame(data)\n",
    "    df.to_csv(csv_file_path, mode='a', header=False, index=False)"
   ]
  },
  {
   "cell_type": "code",
   "execution_count": 3,
   "id": "ba77e7df",
   "metadata": {},
   "outputs": [
    {
     "name": "stdout",
     "output_type": "stream",
     "text": [
      "Processing page 1\n"
     ]
    }
   ],
   "source": [
    "csv_file_path = 'interim_csv.csv'\n",
    "file_path = \"1A-301_Park_Trucking_cdd.2020-02B.wtd.pdf\"\n",
    "\n",
    "process_pdf(file_path, csv_file_path)"
   ]
  }
 ],
 "metadata": {
  "kernelspec": {
   "display_name": "Python 3 (ipykernel)",
   "language": "python",
   "name": "python3"
  },
  "language_info": {
   "codemirror_mode": {
    "name": "ipython",
    "version": 3
   },
   "file_extension": ".py",
   "mimetype": "text/x-python",
   "name": "python",
   "nbconvert_exporter": "python",
   "pygments_lexer": "ipython3",
   "version": "3.11.4"
  }
 },
 "nbformat": 4,
 "nbformat_minor": 5
}
